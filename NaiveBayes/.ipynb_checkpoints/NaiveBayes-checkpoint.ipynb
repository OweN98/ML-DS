{
 "cells": [
  {
   "attachments": {},
   "cell_type": "markdown",
   "metadata": {},
   "source": [
    "# Naive Bayes 朴素贝叶斯\n",
    "* 基于贝叶斯定理和特征条件独立假设的分类方法。\n",
    "\n",
    "## 基本方法\n",
    "* 对于训练集：\n",
    "    1. 首先基于特征条件独立假设学习输入输出的联合概率分布\n",
    "    2. 基于模型，对于给定的输入x，利用贝叶斯定理求出后验概率最大的输出y。\n",
    "\n",
    "<div align=center><img src=\"nba.png\"></div>\n",
    "\n",
    "\n",
    "### 后验概率最大化的意义\n",
    "* <div align=center><img src=\"nba-1.png\"></div>\n",
    "\n",
    "## 朴素贝叶斯的参数估计\n",
    "* 应用极大似然估计法估计相应的概率\n",
    "\n",
    "## 朴素贝叶斯算法\n",
    "* <div align=center><img src=\"nba-2.png\"></div>\n",
    "\n",
    "## 贝叶斯估计\n",
    "* <div align=center><img src=\"nba-3.png\"></div>"
   ]
  },
  {
   "cell_type": "code",
   "execution_count": null,
   "metadata": {},
   "outputs": [],
   "source": []
  }
 ],
 "metadata": {
  "kernelspec": {
   "display_name": "Python 3",
   "language": "python",
   "name": "python3"
  },
  "language_info": {
   "codemirror_mode": {
    "name": "ipython",
    "version": 3
   },
   "file_extension": ".py",
   "mimetype": "text/x-python",
   "name": "python",
   "nbconvert_exporter": "python",
   "pygments_lexer": "ipython3",
   "version": "3.6.4"
  }
 },
 "nbformat": 4,
 "nbformat_minor": 2
}
