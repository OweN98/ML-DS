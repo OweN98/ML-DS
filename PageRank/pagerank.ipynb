{
 "cells": [
  {
   "cell_type": "code",
   "execution_count": 33,
   "metadata": {},
   "outputs": [],
   "source": [
    "import numpy as np\n",
    "import networkx as nx\n",
    "import matplotlib.pyplot as plt"
   ]
  },
  {
   "cell_type": "code",
   "execution_count": 34,
   "metadata": {},
   "outputs": [
    {
     "name": "stdout",
     "output_type": "stream",
     "text": [
      "[['A', 'B'], ['A', 'C'], ['A', 'D'], ['B', 'D'], ['C', 'E'], ['D', 'E'], ['B', 'E'], ['E', 'A']]\n"
     ]
    }
   ],
   "source": [
    "f = open('data.txt','r')\n",
    "edges = [line.strip('\\n').split(' ') for line in f]\n",
    "print(edges)"
   ]
  },
  {
   "cell_type": "code",
   "execution_count": 35,
   "metadata": {},
   "outputs": [
    {
     "data": {
      "image/png": "[encoded data removed]",
      "text/plain": [
       "<Figure size 432x288 with 1 Axes>"
      ]
     },
     "metadata": {},
     "output_type": "display_data"
    }
   ],
   "source": [
    "G = nx.DiGraph()\n",
    "for edge in edges:\n",
    "    G.add_edge(edge[0], edge[1])\n",
    "nx.draw(G, with_labels=True)\n",
    "plt.show()"
   ]
  },
  {
   "cell_type": "code",
   "execution_count": 36,
   "metadata": {},
   "outputs": [
    {
     "name": "stdout",
     "output_type": "stream",
     "text": [
      "['A', 'B', 'C', 'D', 'E']\n"
     ]
    }
   ],
   "source": [
    "nodes=[]\n",
    "for edge in edges:\n",
    "    if edge[0] not in nodes:\n",
    "        nodes.append(edge[0])\n",
    "    if edge[1] not in nodes:\n",
    "        nodes.append(edge[1])\n",
    "print(nodes)"
   ]
  },
  {
   "cell_type": "code",
   "execution_count": 37,
   "metadata": {},
   "outputs": [
    {
     "name": "stdout",
     "output_type": "stream",
     "text": [
      "[[0, 1], [0, 2], [0, 3], [1, 3], [2, 4], [3, 4], [1, 4], [4, 0]]\n",
      "{'A': 0, 'B': 1, 'C': 2, 'D': 3, 'E': 4}\n"
     ]
    }
   ],
   "source": [
    "N=len(nodes)\n",
    "i=0\n",
    "node_to_num={}\n",
    "for node in nodes:\n",
    "    node_to_num[node]=i\n",
    "    i += 1\n",
    "for edge in edges:\n",
    "    edge[0]=node_to_num[edge[0]]\n",
    "    edge[1]=node_to_num[edge[1]]\n",
    "print(edges)\n",
    "print(node_to_num)"
   ]
  },
  {
   "cell_type": "code",
   "execution_count": 38,
   "metadata": {},
   "outputs": [
    {
     "name": "stdout",
     "output_type": "stream",
     "text": [
      "[[0. 0. 0. 0. 1.]\n",
      " [1. 0. 0. 0. 0.]\n",
      " [1. 0. 0. 0. 0.]\n",
      " [1. 1. 0. 0. 0.]\n",
      " [0. 1. 1. 1. 0.]]\n"
     ]
    }
   ],
   "source": [
    "s = np.zeros([N,N])\n",
    "for edge in edges:\n",
    "    s[edge[1], edge[0]] = 1\n",
    "print(s)"
   ]
  },
  {
   "cell_type": "code",
   "execution_count": 39,
   "metadata": {},
   "outputs": [
    {
     "name": "stdout",
     "output_type": "stream",
     "text": [
      "[[0.         0.         0.         0.         1.        ]\n",
      " [0.33333333 0.         0.         0.         0.        ]\n",
      " [0.33333333 0.         0.         0.         0.        ]\n",
      " [0.33333333 0.5        0.         0.         0.        ]\n",
      " [0.         0.5        1.         1.         0.        ]]\n"
     ]
    }
   ],
   "source": [
    "for j in range(N):\n",
    "    sum_of_col=sum(s[:,j])\n",
    "    for i in range(N):\n",
    "        s[i, j] /= sum_of_col\n",
    "print(s)"
   ]
  },
  {
   "cell_type": "code",
   "execution_count": 40,
   "metadata": {},
   "outputs": [
    {
     "name": "stdout",
     "output_type": "stream",
     "text": [
      "[[0.04       0.04       0.04       0.04       0.84      ]\n",
      " [0.30666667 0.04       0.04       0.04       0.04      ]\n",
      " [0.30666667 0.04       0.04       0.04       0.04      ]\n",
      " [0.30666667 0.44       0.04       0.04       0.04      ]\n",
      " [0.04       0.44       0.84       0.84       0.04      ]]\n"
     ]
    }
   ],
   "source": [
    "alpha = 0.8\n",
    "A = alpha*s + (1-alpha)/N*np.ones([N,N])\n",
    "print(A)"
   ]
  },
  {
   "cell_type": "code",
   "execution_count": 41,
   "metadata": {},
   "outputs": [
    {
     "name": "stdout",
     "output_type": "stream",
     "text": [
      "iteration 1 [0.2        0.09333333 0.09333333 0.17333333 0.44      ]\n",
      "iteration 2 [0.392      0.09333333 0.09333333 0.13066667 0.29066667]\n",
      "iteration 3 [0.27253333 0.14453333 0.14453333 0.18186667 0.25653333]\n",
      "iteration 4 [0.24522667 0.11267556 0.11267556 0.17048889 0.35893333]\n",
      "iteration 5 [0.32714667 0.10539378 0.10539378 0.150464   0.31160178]\n",
      "iteration 6 [0.28928142 0.12723911 0.12723911 0.16939662 0.28684373]\n",
      "iteration 7 [0.26947499 0.11714171 0.11714171 0.16803736 0.32820423]\n",
      "iteration 8 [0.30256338 0.11186    0.11186    0.15871668 0.31499994]\n",
      "iteration 9 [0.29199995 0.12068357 0.12068357 0.16542757 0.30120534]\n",
      "iteration 10 [0.28096427 0.11786665 0.11786665 0.16614008 0.31716234]\n",
      "iteration 11 [0.29372987 0.11492381 0.11492381 0.16207047 0.31435205]\n",
      "iteration 12 [0.29148164 0.11832797 0.11832797 0.16429749 0.30756494]\n",
      "iteration 13 [0.28605195 0.11772844 0.11772844 0.16505962 0.31343155]\n",
      "iteration 14 [0.29074524 0.11628052 0.11628052 0.1633719  0.31332182]\n",
      "iteration 15 [0.29065746 0.11753206 0.11753206 0.16404427 0.31023414]\n",
      "iteration 16 [0.28818731 0.11750866 0.11750866 0.16452148 0.31227389]\n",
      "iteration 17 [0.28981912 0.11684995 0.11684995 0.16385341 0.31262757]\n",
      "iteration 18 [0.29010206 0.1172851  0.1172851  0.16402508 0.31130267]\n",
      "iteration 19 [0.28904214 0.11736055 0.11736055 0.16427459 0.31196218]\n",
      "iteration 20 [0.28956974 0.1170779  0.1170779  0.16402212 0.31225233]\n",
      "iteration 21 [0.28980186 0.1172186  0.1172186  0.16404976 0.31171118]\n",
      "iteration 22 [0.28936895 0.1172805  0.1172805  0.16416794 0.31190213]\n",
      "iteration 23 [0.2895217  0.11716505 0.11716505 0.16407725 0.31207094]\n",
      "iteration 24 [0.28965676 0.11720579 0.11720579 0.16407181 0.31185986]\n",
      "iteration 25 [0.28948789 0.1172418  0.1172418  0.16412412 0.31190439]\n",
      "iteration 26 [0.28952351 0.11719677 0.11719677 0.16409349 0.31198945]\n",
      "iteration 27 [0.28959156 0.11720627 0.11720627 0.16408498 0.31191092]\n",
      "iteration 28 [0.28952873 0.11722442 0.11722442 0.16410693 0.31191551]\n",
      "iteration 29 [0.28953241 0.11720766 0.11720766 0.16409743 0.31195484]\n",
      "iteration 30 [0.28956387 0.11720864 0.11720864 0.16409171 0.31192714]\n",
      "iteration 31 [0.28954171 0.11721703 0.11721703 0.16410049 0.31192373]\n",
      "iteration 32 [0.28953899 0.11721112 0.11721112 0.16409794 0.31194083]\n",
      "iteration 33 [0.28955266 0.1172104  0.1172104  0.16409485 0.3119317 ]\n",
      "iteration 34 [0.28954536 0.11721404 0.11721404 0.1640982  0.31192835]\n",
      "iteration 35 [0.28954268 0.1172121  0.1172121  0.16409771 0.31193541]\n",
      "iteration 36 [0.28954833 0.11721138 0.11721138 0.16409622 0.31193268]\n",
      "iteration 37 [0.28954615 0.11721289 0.11721289 0.16409744 0.31193063]\n",
      "iteration 38 [0.28954451 0.11721231 0.11721231 0.16409746 0.31193342]\n",
      "iteration 39 [0.28954674 0.11721187 0.11721187 0.16409679 0.31193274]\n",
      "iteration 40 [0.28954619 0.11721246 0.11721246 0.16409721 0.31193168]\n",
      "iteration 41 [0.28954534 0.11721232 0.11721232 0.1640973  0.31193272]\n",
      "iteration 42 [0.28954618 0.11721209 0.11721209 0.16409702 0.31193262]\n",
      "final result: [0.28954618 0.11721209 0.11721209 0.16409702 0.31193262]\n"
     ]
    }
   ],
   "source": [
    "Pr = np.ones(N)/N\n",
    "Pr1 = np.zeros(N)\n",
    "e = 100000\n",
    "k = 0\n",
    "while e > 0.000001:\n",
    "    Pr1 = np.dot(A, Pr)\n",
    "    e = Pr1 - Pr\n",
    "    e = max(map(abs, e))\n",
    "    Pr = Pr1\n",
    "    k += 1\n",
    "    print('iteration %s'%str(k),Pr1)\n",
    "    \n",
    "print('final result:', Pr)"
   ]
  },
  {
   "cell_type": "code",
   "execution_count": null,
   "metadata": {},
   "outputs": [],
   "source": []
  }
 ],
 "metadata": {
  "kernelspec": {
   "display_name": "Python 3",
   "language": "python",
   "name": "python3"
  },
  "language_info": {
   "codemirror_mode": {
    "name": "ipython",
    "version": 3
   },
   "file_extension": ".py",
   "mimetype": "text/x-python",
   "name": "python",
   "nbconvert_exporter": "python",
   "pygments_lexer": "ipython3",
   "version": "3.6.4"
  }
 },
 "nbformat": 4,
 "nbformat_minor": 2
}
