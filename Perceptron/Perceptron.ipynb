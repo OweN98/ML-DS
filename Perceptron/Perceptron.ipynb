{
 "cells": [
  {
   "cell_type": "markdown",
   "metadata": {},
   "source": [
<<<<<<< HEAD
    "# Perceptron 感知机模型\n",
=======
    "Perceptron 感知机模型\n",
>>>>>>> e1f0c1c8cfef4f1ff442d303ac3ca7cb8fe28b9f
    "input->output: f(x) = sign(w * x + b)\n",
    "    w = weight\n",
    "    b = bias\n",
    "    w * x 称为内积\n",
<<<<<<< HEAD
    "* 线性方程 w * x + b = 0对应特征空间中的超平面S，w对应超平面的法向量，b对应超平面的截距，平面两侧被分为正、负两类，所以S被称为分离超平面（seperating hyperplane）,此时的数据集T称为线性可分数据集（linearly seperable data set）。\n",
    "* 目标：找出S，并制定学习策略，最小化损失函数。\n",
    "* 点x0到S的距离d = |w * x0 + b| / ||w||，其中||w||为L2范数。\n",
    "* 不考虑L2范数，得到损失函数。\n",
    "\n",
    "* Stochastic gradient descent 随机梯度下降法"
=======
    "线性方程 w * x + b = 0对应特征空间中的超平面S，w对应超平面的法向量，b对应超平面的截距，平面两侧被分为正、负两类，所以S被称为分离超平面（seperating hyperplane）,此时的数据集T称为线性可分数据集（linearly seperable data set）。\n",
    "目标：找出S，并制定学习策略，最小化损失函数。\n",
    "点x0到S的距离d = |w * x0 + b| / ||w||，其中||w||为L2范数。\n",
    "不考虑L2范数，得到损失函数。\n",
    "\n",
    "Stochastic gradient descent 随机梯度下降法"
>>>>>>> e1f0c1c8cfef4f1ff442d303ac3ca7cb8fe28b9f
   ]
  },
  {
   "cell_type": "code",
   "execution_count": 3,
   "metadata": {},
   "outputs": [],
   "source": [
    "import pandas as pd\n",
    "import numpy as np\n",
    "import matplotlib.pyplot as plt\n",
    "from sklearn import datasets"
   ]
  },
  {
   "cell_type": "code",
   "execution_count": 13,
   "metadata": {},
   "outputs": [
    {
     "name": "stdout",
     "output_type": "stream",
     "text": [
      "['sepal length (cm)', 'sepal width (cm)', 'petal length (cm)', 'petal width (cm)']\n",
      "['setosa' 'versicolor' 'virginica']\n",
      "[0 0 0 0 0 0 0 0 0 0 0 0 0 0 0 0 0 0 0 0 0 0 0 0 0 0 0 0 0 0 0 0 0 0 0 0 0\n",
      " 0 0 0 0 0 0 0 0 0 0 0 0 0 1 1 1 1 1 1 1 1 1 1 1 1 1 1 1 1 1 1 1 1 1 1 1 1\n",
      " 1 1 1 1 1 1 1 1 1 1 1 1 1 1 1 1 1 1 1 1 1 1 1 1 1 1 2 2 2 2 2 2 2 2 2 2 2\n",
      " 2 2 2 2 2 2 2 2 2 2 2 2 2 2 2 2 2 2 2 2 2 2 2 2 2 2 2 2 2 2 2 2 2 2 2 2 2\n",
      " 2 2]\n"
     ]
    }
   ],
   "source": [
    "iris_data = datasets.load_iris()\n",
    "#print(iris_data)\n",
    "print(iris_data.feature_names)\n",
    "print(iris_data.target_names)\n",
    "print(iris_data.target)"
   ]
  },
  {
   "cell_type": "code",
   "execution_count": 30,
   "metadata": {},
   "outputs": [
    {
     "data": {
      "text/plain": [
       "2.0    50\n",
       "1.0    50\n",
       "0.0    50\n",
       "Name: label, dtype: int64"
      ]
     },
     "execution_count": 30,
     "metadata": {},
     "output_type": "execute_result"
    }
   ],
   "source": [
    "iris = pd.DataFrame(np.column_stack((iris_data.data, iris_data.target)), columns = ['sepal length (cm)', 'sepal width (cm)', 'petal length (cm)', 'petal width (cm)', 'label'])\n",
    "#iris.shape\n",
    "iris.label.value_counts()"
   ]
  },
  {
   "cell_type": "code",
   "execution_count": 53,
   "metadata": {},
   "outputs": [
    {
     "name": "stdout",
     "output_type": "stream",
     "text": [
      "[-1 -1 -1 -1 -1 -1 -1 -1 -1 -1 -1 -1 -1 -1 -1 -1 -1 -1 -1 -1 -1 -1 -1 -1\n",
      " -1 -1 -1 -1 -1 -1 -1 -1 -1 -1 -1 -1 -1 -1 -1 -1 -1 -1 -1 -1 -1 -1 -1 -1\n",
      " -1 -1  1  1  1  1  1  1  1  1  1  1  1  1  1  1  1  1  1  1  1  1  1  1\n",
      "  1  1  1  1  1  1  1  1  1  1  1  1  1  1  1  1  1  1  1  1  1  1  1  1\n",
      "  1  1  1  1]\n"
     ]
    }
   ],
   "source": [
    "data = np.array(iris.iloc[:100, [0, 1, -1]])\n",
    "x, y = data[:, :2], data[:, -1]\n",
    "y = np.array([1 if i==1 else -1 for i in y])\n",
    "print(y)"
   ]
  },
  {
   "cell_type": "code",
   "execution_count": 58,
   "metadata": {},
   "outputs": [],
   "source": [
    "class perceptron:\n",
    "    def __init__(self):\n",
    "        #w : weight\n",
    "        #b : bias\n",
    "        #l_r : learning rate\n",
    "        self.w = np.ones(len(data[0])-1)\n",
    "        self.b = 0\n",
    "        self.l_r = 0.1\n",
    "    #stochastic gradient descent随机梯度下降法\n",
    "    def sgd(self, x_train, y_train):\n",
    "        not_com = True\n",
    "        while not_com:\n",
    "            wrong_count = 0\n",
    "            for i in range(len(x_train)):\n",
    "                xi = x_train[i]\n",
    "                yi = y_train[i]\n",
    "                if yi * (np.dot(xi, self.w) + self.b) <= 0:\n",
    "                    self.w = self.w + self.l_r * np.dot(yi, xi)\n",
    "                    self.b = self.b + self.l_r * yi\n",
    "                    wrong_count += 1\n",
    "                    #print(self.w)\n",
    "            if wrong_count == 0:\n",
    "                not_com = False\n",
    "        \n",
    "        return 'Perceptron Complete'\n",
    "    "
   ]
  },
  {
   "cell_type": "code",
   "execution_count": 59,
   "metadata": {},
   "outputs": [
    {
     "data": {
      "text/plain": [
       "'Perceptron Complete'"
      ]
     },
     "execution_count": 59,
     "metadata": {},
     "output_type": "execute_result"
    }
   ],
   "source": [
    "my_per = perceptron()\n",
    "my_per.sgd(x, y)"
   ]
  },
  {
   "cell_type": "code",
   "execution_count": 71,
   "metadata": {},
   "outputs": [
    {
     "data": {
      "text/plain": [
       "<matplotlib.legend.Legend at 0x177c3e15390>"
      ]
     },
     "execution_count": 71,
     "metadata": {},
     "output_type": "execute_result"
    },
    {
     "data": {
      "image/png": "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\n",
      "text/plain": [
       "<Figure size 432x288 with 1 Axes>"
      ]
     },
     "metadata": {},
     "output_type": "display_data"
    }
   ],
   "source": [
    "pointx = np.linspace(4, 7)\n",
    "pointy = -(my_per.w[0] * pointx+ my_per.b)/my_per.w[1]\n",
    "plt.plot(pointx, pointy)\n",
    "\n",
    "plt.scatter(iris[:50]['sepal length (cm)'], iris[:50]['sepal width (cm)'], label='0')\n",
    "plt.scatter(iris[50:100]['sepal length (cm)'], iris[50:100]['sepal width (cm)'], label='1')\n",
    "plt.xlabel('sepal length')\n",
    "plt.ylabel('sepal width')\n",
    "plt.legend()"
   ]
  },
  {
   "cell_type": "code",
   "execution_count": null,
   "metadata": {},
   "outputs": [],
   "source": []
  }
 ],
 "metadata": {
  "kernelspec": {
   "display_name": "Python 3",
   "language": "python",
   "name": "python3"
  },
  "language_info": {
   "codemirror_mode": {
    "name": "ipython",
    "version": 3
   },
   "file_extension": ".py",
   "mimetype": "text/x-python",
   "name": "python",
   "nbconvert_exporter": "python",
   "pygments_lexer": "ipython3",
   "version": "3.6.4"
  }
 },
 "nbformat": 4,
 "nbformat_minor": 2
}
